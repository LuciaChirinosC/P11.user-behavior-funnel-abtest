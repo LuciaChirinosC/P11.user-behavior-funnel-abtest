{
 "cells": [
  {
   "cell_type": "markdown",
   "metadata": {},
   "source": [
    "Hola **Lucia**!\n",
    "\n",
    "Soy **Patricio Requena** 👋. Es un placer ser el revisor de tu proyecto el día de hoy!\n",
    "\n",
    "Revisaré tu proyecto detenidamente con el objetivo de ayudarte a mejorar y perfeccionar tus habilidades. Durante mi revisión, identificaré áreas donde puedas hacer mejoras en tu código, señalando específicamente qué y cómo podrías ajustar para optimizar el rendimiento y la claridad de tu proyecto. Además, es importante para mí destacar los aspectos que has manejado excepcionalmente bien. Reconocer tus fortalezas te ayudará a entender qué técnicas y métodos están funcionando a tu favor y cómo puedes aplicarlos en futuras tareas. \n",
    "\n",
    "_**Recuerda que al final de este notebook encontrarás un comentario general de mi parte**_, empecemos!\n",
    "\n",
    "Encontrarás mis comentarios dentro de cajas verdes, amarillas o rojas, ⚠️ **por favor, no muevas, modifiques o borres mis comentarios** ⚠️:\n",
    "\n",
    "\n",
    "<div class=\"alert alert-block alert-success\">\n",
    "<b>Comentario del revisor</b> <a class=“tocSkip”></a>\n",
    "Si todo está perfecto.\n",
    "</div>\n",
    "\n",
    "<div class=\"alert alert-block alert-warning\">\n",
    "<b>Comentario del revisor</b> <a class=“tocSkip”></a>\n",
    "Si tu código está bien pero se puede mejorar o hay algún detalle que le hace falta.\n",
    "</div>\n",
    "\n",
    "<div class=\"alert alert-block alert-danger\">\n",
    "<b>Comentario del revisor</b> <a class=“tocSkip”></a>\n",
    "Si de pronto hace falta algo o existe algún problema con tu código o conclusiones.\n",
    "</div>\n",
    "\n",
    "Puedes responderme de esta forma:\n",
    "<div class=\"alert alert-block alert-info\">\n",
    "<b>Respuesta del estudiante</b> <a class=“tocSkip”></a>\n",
    "</div>"
   ]
  },
  {
   "cell_type": "markdown",
   "metadata": {},
   "source": [
    "<div class=\"alert alert-block alert-warning\">\n",
    "<b>Comentario del revisor (1ra Iteracion)</b> <a class=“tocSkip”></a>\n",
    "\n",
    "**Tip**: Para mejorar la presentación de tus proyectos te recomiendo siempre al inicio en una celda markdown redactar un título descriptivo al proyecto y una breve introducción al proyecto para que el objetivo del mismo quede claro desde el inicio\n",
    "</div>"
   ]
  },
  {
   "cell_type": "markdown",
   "metadata": {},
   "source": [
    "***Sprint 11 - Proyecto***"
   ]
  },
  {
   "cell_type": "markdown",
   "metadata": {},
   "source": [
    "***Paso 0: Importar librerias***"
   ]
  },
  {
   "cell_type": "code",
   "execution_count": 63,
   "metadata": {},
   "outputs": [],
   "source": [
    "import pandas as pd\n",
    "import numpy as np\n",
    "import matplotlib.pyplot as plt\n",
    "import seaborn as sns\n",
    "import os\n",
    "from math import sqrt, erf\n",
    "\n",
    "# Configuraciones generales\n",
    "pd.set_option('display.max_columns', None)\n",
    "pd.set_option('display.max_rows', 100)"
   ]
  },
  {
   "cell_type": "markdown",
   "metadata": {},
   "source": [
    "***Paso 1. Abrir el archivo de datos y leer la información general***"
   ]
  },
  {
   "cell_type": "code",
   "execution_count": 64,
   "metadata": {},
   "outputs": [
    {
     "name": "stdout",
     "output_type": "stream",
     "text": [
      "Primeras filas del dataset:\n"
     ]
    },
    {
     "data": {
      "text/html": [
       "<div>\n",
       "<style scoped>\n",
       "    .dataframe tbody tr th:only-of-type {\n",
       "        vertical-align: middle;\n",
       "    }\n",
       "\n",
       "    .dataframe tbody tr th {\n",
       "        vertical-align: top;\n",
       "    }\n",
       "\n",
       "    .dataframe thead th {\n",
       "        text-align: right;\n",
       "    }\n",
       "</style>\n",
       "<table border=\"1\" class=\"dataframe\">\n",
       "  <thead>\n",
       "    <tr style=\"text-align: right;\">\n",
       "      <th></th>\n",
       "      <th>EventName\\tDeviceIDHash\\tEventTimestamp\\tExpId</th>\n",
       "    </tr>\n",
       "  </thead>\n",
       "  <tbody>\n",
       "    <tr>\n",
       "      <th>0</th>\n",
       "      <td>MainScreenAppear\\t4575588528974610257\\t1564029...</td>\n",
       "    </tr>\n",
       "    <tr>\n",
       "      <th>1</th>\n",
       "      <td>MainScreenAppear\\t7416695313311560658\\t1564053...</td>\n",
       "    </tr>\n",
       "    <tr>\n",
       "      <th>2</th>\n",
       "      <td>PaymentScreenSuccessful\\t3518123091307005509\\t...</td>\n",
       "    </tr>\n",
       "    <tr>\n",
       "      <th>3</th>\n",
       "      <td>CartScreenAppear\\t3518123091307005509\\t1564054...</td>\n",
       "    </tr>\n",
       "    <tr>\n",
       "      <th>4</th>\n",
       "      <td>PaymentScreenSuccessful\\t6217807653094995999\\t...</td>\n",
       "    </tr>\n",
       "  </tbody>\n",
       "</table>\n",
       "</div>"
      ],
      "text/plain": [
       "      EventName\\tDeviceIDHash\\tEventTimestamp\\tExpId\n",
       "0  MainScreenAppear\\t4575588528974610257\\t1564029...\n",
       "1  MainScreenAppear\\t7416695313311560658\\t1564053...\n",
       "2  PaymentScreenSuccessful\\t3518123091307005509\\t...\n",
       "3  CartScreenAppear\\t3518123091307005509\\t1564054...\n",
       "4  PaymentScreenSuccessful\\t6217807653094995999\\t..."
      ]
     },
     "metadata": {},
     "output_type": "display_data"
    },
    {
     "name": "stdout",
     "output_type": "stream",
     "text": [
      "\n",
      " Información general del DataFrame:\n",
      "<class 'pandas.core.frame.DataFrame'>\n",
      "RangeIndex: 244126 entries, 0 to 244125\n",
      "Data columns (total 1 columns):\n",
      " #   Column                                       Non-Null Count   Dtype \n",
      "---  ------                                       --------------   ----- \n",
      " 0   EventName\tDeviceIDHash\tEventTimestamp\tExpId  244126 non-null  object\n",
      "dtypes: object(1)\n",
      "memory usage: 1.9+ MB\n",
      "None\n",
      "\n",
      " Estadísticas descriptivas (solo columnas numéricas):\n"
     ]
    },
    {
     "data": {
      "text/html": [
       "<div>\n",
       "<style scoped>\n",
       "    .dataframe tbody tr th:only-of-type {\n",
       "        vertical-align: middle;\n",
       "    }\n",
       "\n",
       "    .dataframe tbody tr th {\n",
       "        vertical-align: top;\n",
       "    }\n",
       "\n",
       "    .dataframe thead th {\n",
       "        text-align: right;\n",
       "    }\n",
       "</style>\n",
       "<table border=\"1\" class=\"dataframe\">\n",
       "  <thead>\n",
       "    <tr style=\"text-align: right;\">\n",
       "      <th></th>\n",
       "      <th>EventName\\tDeviceIDHash\\tEventTimestamp\\tExpId</th>\n",
       "    </tr>\n",
       "  </thead>\n",
       "  <tbody>\n",
       "    <tr>\n",
       "      <th>count</th>\n",
       "      <td>244126</td>\n",
       "    </tr>\n",
       "    <tr>\n",
       "      <th>unique</th>\n",
       "      <td>243713</td>\n",
       "    </tr>\n",
       "    <tr>\n",
       "      <th>top</th>\n",
       "      <td>PaymentScreenSuccessful\\t4980045449118619005\\t...</td>\n",
       "    </tr>\n",
       "    <tr>\n",
       "      <th>freq</th>\n",
       "      <td>5</td>\n",
       "    </tr>\n",
       "  </tbody>\n",
       "</table>\n",
       "</div>"
      ],
      "text/plain": [
       "           EventName\\tDeviceIDHash\\tEventTimestamp\\tExpId\n",
       "count                                              244126\n",
       "unique                                             243713\n",
       "top     PaymentScreenSuccessful\\t4980045449118619005\\t...\n",
       "freq                                                    5"
      ]
     },
     "metadata": {},
     "output_type": "display_data"
    }
   ],
   "source": [
    "# Cargar el dataset desde la ruta indicada por TripleTen\n",
    "ruta = '/datasets/logs_exp_us.csv'\n",
    "df = pd.read_csv(ruta)\n",
    "\n",
    "#Confirmar que se cargó bien\n",
    "print(\"Primeras filas del dataset:\")\n",
    "display(df.head())\n",
    "\n",
    "print(\"\\n Información general del DataFrame:\")\n",
    "print(df.info())\n",
    "\n",
    "print(\"\\n Estadísticas descriptivas (solo columnas numéricas):\")\n",
    "display(df.describe())"
   ]
  },
  {
   "cell_type": "markdown",
   "metadata": {},
   "source": [
    "En el Paso 1 cargamos el archivo desde la ruta de la plataforma /datasets/logs_exp_us.csv indicando que el separador es un tabulador. Con esto obtuvimos un DataFrame de 244,126 filas y cuatro columnas (EventName, DeviceIDHash, EventTimestamp, ExpId) con estructura correcta para trabajar."
   ]
  },
  {
   "cell_type": "markdown",
   "metadata": {},
   "source": [
    "***Paso 2. Preparar los datos para el análisis***"
   ]
  },
  {
   "cell_type": "code",
   "execution_count": 65,
   "metadata": {},
   "outputs": [
    {
     "name": "stdout",
     "output_type": "stream",
     "text": [
      "Tipos de datos y nulos después de renombrar y convertir:\n",
      "<class 'pandas.core.frame.DataFrame'>\n",
      "RangeIndex: 244126 entries, 0 to 244125\n",
      "Data columns (total 4 columns):\n",
      " #   Column       Non-Null Count   Dtype \n",
      "---  ------       --------------   ----- \n",
      " 0   evento       244126 non-null  object\n",
      " 1   usuario_id   244126 non-null  object\n",
      " 2   timestamp    244126 non-null  int64 \n",
      " 3   experimento  244126 non-null  int64 \n",
      "dtypes: int64(2), object(2)\n",
      "memory usage: 7.5+ MB\n",
      "None \n",
      "\n",
      "Valores nulos por columna:\n",
      "evento         0\n",
      "usuario_id     0\n",
      "timestamp      0\n",
      "experimento    0\n",
      "dtype: int64 \n",
      "\n",
      "Datos preparados (primeras filas):\n"
     ]
    },
    {
     "data": {
      "text/html": [
       "<div>\n",
       "<style scoped>\n",
       "    .dataframe tbody tr th:only-of-type {\n",
       "        vertical-align: middle;\n",
       "    }\n",
       "\n",
       "    .dataframe tbody tr th {\n",
       "        vertical-align: top;\n",
       "    }\n",
       "\n",
       "    .dataframe thead th {\n",
       "        text-align: right;\n",
       "    }\n",
       "</style>\n",
       "<table border=\"1\" class=\"dataframe\">\n",
       "  <thead>\n",
       "    <tr style=\"text-align: right;\">\n",
       "      <th></th>\n",
       "      <th>evento</th>\n",
       "      <th>usuario_id</th>\n",
       "      <th>timestamp</th>\n",
       "      <th>experimento</th>\n",
       "      <th>fecha_hora</th>\n",
       "      <th>fecha</th>\n",
       "    </tr>\n",
       "  </thead>\n",
       "  <tbody>\n",
       "    <tr>\n",
       "      <th>0</th>\n",
       "      <td>MainScreenAppear</td>\n",
       "      <td>4575588528974610257</td>\n",
       "      <td>1564029816</td>\n",
       "      <td>246</td>\n",
       "      <td>2019-07-25 04:43:36</td>\n",
       "      <td>2019-07-25</td>\n",
       "    </tr>\n",
       "    <tr>\n",
       "      <th>1</th>\n",
       "      <td>MainScreenAppear</td>\n",
       "      <td>7416695313311560658</td>\n",
       "      <td>1564053102</td>\n",
       "      <td>246</td>\n",
       "      <td>2019-07-25 11:11:42</td>\n",
       "      <td>2019-07-25</td>\n",
       "    </tr>\n",
       "    <tr>\n",
       "      <th>2</th>\n",
       "      <td>PaymentScreenSuccessful</td>\n",
       "      <td>3518123091307005509</td>\n",
       "      <td>1564054127</td>\n",
       "      <td>248</td>\n",
       "      <td>2019-07-25 11:28:47</td>\n",
       "      <td>2019-07-25</td>\n",
       "    </tr>\n",
       "    <tr>\n",
       "      <th>3</th>\n",
       "      <td>CartScreenAppear</td>\n",
       "      <td>3518123091307005509</td>\n",
       "      <td>1564054127</td>\n",
       "      <td>248</td>\n",
       "      <td>2019-07-25 11:28:47</td>\n",
       "      <td>2019-07-25</td>\n",
       "    </tr>\n",
       "    <tr>\n",
       "      <th>4</th>\n",
       "      <td>PaymentScreenSuccessful</td>\n",
       "      <td>6217807653094995999</td>\n",
       "      <td>1564055322</td>\n",
       "      <td>248</td>\n",
       "      <td>2019-07-25 11:48:42</td>\n",
       "      <td>2019-07-25</td>\n",
       "    </tr>\n",
       "  </tbody>\n",
       "</table>\n",
       "</div>"
      ],
      "text/plain": [
       "                    evento           usuario_id   timestamp  experimento  \\\n",
       "0         MainScreenAppear  4575588528974610257  1564029816          246   \n",
       "1         MainScreenAppear  7416695313311560658  1564053102          246   \n",
       "2  PaymentScreenSuccessful  3518123091307005509  1564054127          248   \n",
       "3         CartScreenAppear  3518123091307005509  1564054127          248   \n",
       "4  PaymentScreenSuccessful  6217807653094995999  1564055322          248   \n",
       "\n",
       "           fecha_hora       fecha  \n",
       "0 2019-07-25 04:43:36  2019-07-25  \n",
       "1 2019-07-25 11:11:42  2019-07-25  \n",
       "2 2019-07-25 11:28:47  2019-07-25  \n",
       "3 2019-07-25 11:28:47  2019-07-25  \n",
       "4 2019-07-25 11:48:42  2019-07-25  "
      ]
     },
     "metadata": {},
     "output_type": "display_data"
    },
    {
     "name": "stdout",
     "output_type": "stream",
     "text": [
      "\n",
      "Resumen de tipos finales:\n",
      "evento                 object\n",
      "usuario_id             object\n",
      "timestamp               int64\n",
      "experimento             int64\n",
      "fecha_hora     datetime64[ns]\n",
      "fecha                  object\n",
      "dtype: object\n"
     ]
    }
   ],
   "source": [
    "#Autocorrección si el DataFrame quedó con una sola columna empaquetada\n",
    "if df.shape[1] == 1 and (\"\\t\" in df.columns[0] or df.iloc[0, 0].find(\"\\t\") != -1):\n",
    "    packed_col = df.columns[0]\n",
    "    # Divide la columna en varias usando el tabulador\n",
    "    df = df[packed_col].str.split(\"\\t\", expand=True)\n",
    "    # Asigna nombres de columnas a partir del encabezado empaquetado\n",
    "    df.columns = packed_col.split(\"\\t\")\n",
    "\n",
    "# 1) Renombrar columnas para mayor comodidad\n",
    "rename_map = {\n",
    "    \"EventName\": \"evento\",\n",
    "    \"DeviceIDHash\": \"usuario_id\",\n",
    "    \"EventTimestamp\": \"timestamp\",\n",
    "    \"ExpId\": \"experimento\"\n",
    "}\n",
    "# Solo renombrar si existen\n",
    "df = df.rename(columns={k: v for k, v in rename_map.items() if k in df.columns})\n",
    "\n",
    "# 2) Convertir tipos y revisar nulos\n",
    "# Asegurar tipos numéricos donde corresponde\n",
    "if \"usuario_id\" in df.columns:\n",
    "    # Hay casos en que viene como string muy largo; mantenerlo como string para no perder precisión si fuese hash\n",
    "    # Si prefieres numérico, descomenta la línea siguiente:\n",
    "    # df[\"usuario_id\"] = pd.to_numeric(df[\"usuario_id\"], errors=\"coerce\")\n",
    "    df[\"usuario_id\"] = df[\"usuario_id\"].astype(str)\n",
    "\n",
    "if \"experimento\" in df.columns:\n",
    "    df[\"experimento\"] = pd.to_numeric(df[\"experimento\"], errors=\"coerce\")\n",
    "\n",
    "if \"timestamp\" in df.columns:\n",
    "    df[\"timestamp\"] = pd.to_numeric(df[\"timestamp\"], errors=\"coerce\")\n",
    "\n",
    "print(\"Tipos de datos y nulos después de renombrar y convertir:\")\n",
    "print(df.info(), \"\\n\")\n",
    "print(\"Valores nulos por columna:\")\n",
    "print(df.isnull().sum(), \"\\n\")\n",
    "\n",
    "# 3) Convertir timestamp (segundos Unix) a datetime y crear columnas de fecha/hora y fecha\n",
    "if \"timestamp\" in df.columns:\n",
    "    df[\"fecha_hora\"] = pd.to_datetime(df[\"timestamp\"], unit=\"s\", errors=\"coerce\")\n",
    "    df[\"fecha\"] = df[\"fecha_hora\"].dt.date\n",
    "else:\n",
    "    raise KeyError(\"No se encontró la columna 'timestamp' después de la autocorrección. Verifica el contenido del DataFrame.\")\n",
    "\n",
    "# 4) Comprobación final\n",
    "print(\"Datos preparados (primeras filas):\")\n",
    "display(df.head())\n",
    "\n",
    "print(\"\\nResumen de tipos finales:\")\n",
    "print(df.dtypes)"
   ]
  },
  {
   "cell_type": "markdown",
   "metadata": {},
   "source": [
    "En el Paso 2 preparamos los datos: renombramos las columnas a evento, usuario_id, timestamp y experimento; confirmamos que evento y usuario_id son texto y que timestamp y experimento son numéricos; no se encontraron valores ausentes en estas columnas. Además, convertimos el timestamp a fecha y hora (fecha_hora) y creamos una columna solo con la fecha (fecha), dejando el dataset listo para el análisis del embudo y el experimento A/A/B."
   ]
  },
  {
   "cell_type": "markdown",
   "metadata": {},
   "source": [
    "<div class=\"alert alert-block alert-success\">\n",
    "<b>Comentario del revisor (1ra Iteracion)</b> <a class=“tocSkip”></a>\n",
    "\n",
    "Muy bien hecha la revisión inicial de los datos para tu análisis, siempre es importante revisar la calidad de tus datos y realizar las transformaciones necesarias \n",
    "</div>"
   ]
  },
  {
   "cell_type": "markdown",
   "metadata": {},
   "source": [
    "***Paso 3 : Estudiar y comprobar los datos***"
   ]
  },
  {
   "cell_type": "code",
   "execution_count": 66,
   "metadata": {},
   "outputs": [
    {
     "name": "stdout",
     "output_type": "stream",
     "text": [
      "Columnas disponibles: ['evento', 'usuario_id', 'timestamp', 'experimento', 'fecha_hora', 'fecha']\n"
     ]
    }
   ],
   "source": [
    "# Asegurar que existen las columnas temporales esperadas\n",
    "if \"fecha_hora\" not in df.columns:\n",
    "    df[\"fecha_hora\"] = pd.to_datetime(df[\"timestamp\"], unit=\"s\", errors=\"coerce\")\n",
    "if \"fecha\" not in df.columns:\n",
    "    df[\"fecha\"] = df[\"fecha_hora\"].dt.date\n",
    "\n",
    "# Confirmación rápida\n",
    "print(\"Columnas disponibles:\", list(df.columns))"
   ]
  },
  {
   "cell_type": "code",
   "execution_count": 67,
   "metadata": {},
   "outputs": [
    {
     "name": "stdout",
     "output_type": "stream",
     "text": [
      "Total de eventos en los registros: 244,126\n"
     ]
    }
   ],
   "source": [
    "# Parte 3.1: ¿Cuántos eventos hay en los registros?\n",
    "total_eventos = len(df)\n",
    "print(f\"Total de eventos en los registros: {total_eventos:,}\")"
   ]
  },
  {
   "cell_type": "code",
   "execution_count": 68,
   "metadata": {},
   "outputs": [
    {
     "name": "stdout",
     "output_type": "stream",
     "text": [
      "Total de usuarios en los registros: 7,551\n"
     ]
    }
   ],
   "source": [
    "# Parte 3.2: ¿Cuántos usuarios hay en los registros?\n",
    "total_usuarios = df[\"usuario_id\"].nunique()\n",
    "print(f\"Total de usuarios en los registros: {total_usuarios:,}\")"
   ]
  },
  {
   "cell_type": "code",
   "execution_count": 69,
   "metadata": {},
   "outputs": [
    {
     "name": "stdout",
     "output_type": "stream",
     "text": [
      "Promedio de eventos por usuario: 32.33\n"
     ]
    }
   ],
   "source": [
    "# Parte 3.3: ¿Cuál es el promedio de eventos por usuario?\n",
    "promedio_eventos_por_usuario = total_eventos / total_usuarios if total_usuarios > 0 else np.nan\n",
    "print(f\"Promedio de eventos por usuario: {promedio_eventos_por_usuario:.2f}\")"
   ]
  },
  {
   "cell_type": "markdown",
   "metadata": {},
   "source": [
    "<div class=\"alert alert-block alert-warning\">\n",
    "<b>Comentario del revisor (1ra Iteracion)</b> <a class=“tocSkip”></a>\n",
    "\n",
    "Correcto, aquí cómo recomendación para que le des un plus a tu análisis, es que este tipo de métricas cómo la del promedio de eventos de abajo las calcules por cada grupo cuando se trate de pruebas AB ya que así se puede ir viendo las diferencias desde el inicio.\n",
    "</div>"
   ]
  },
  {
   "cell_type": "code",
   "execution_count": 70,
   "metadata": {},
   "outputs": [
    {
     "name": "stdout",
     "output_type": "stream",
     "text": [
      "Periodo cubierto por los datos: 2019-07-25 04:43:36  →  2019-08-07 21:15:17\n"
     ]
    }
   ],
   "source": [
    "# Parte 3.4: ¿Qué periodo de tiempo cubren los datos?\n",
    "# Obtén fecha mínima y máxima\n",
    "\n",
    "fecha_min = df[\"fecha_hora\"].min()\n",
    "fecha_max = df[\"fecha_hora\"].max()\n",
    "print(f\"Periodo cubierto por los datos: {fecha_min}  →  {fecha_max}\")"
   ]
  },
  {
   "cell_type": "code",
   "execution_count": 71,
   "metadata": {},
   "outputs": [
    {
     "data": {
      "image/png": "[encoded data removed]",
      "text/plain": [
       "<Figure size 1200x400 with 1 Axes>"
      ]
     },
     "metadata": {},
     "output_type": "display_data"
    },
    {
     "name": "stdout",
     "output_type": "stream",
     "text": [
      "Resumen conteo diario:\n"
     ]
    },
    {
     "data": {
      "text/plain": [
       "count       14.000000\n",
       "mean     17437.571429\n",
       "std      17734.124149\n",
       "min          9.000000\n",
       "25%        124.750000\n",
       "50%      16587.500000\n",
       "75%      35042.250000\n",
       "max      36229.000000\n",
       "dtype: float64"
      ]
     },
     "metadata": {},
     "output_type": "display_data"
    }
   ],
   "source": [
    "# Parte 3.5: Histograma por fecha (conteo diario)\n",
    "conteo_diario = df.groupby(\"fecha\").size().sort_index()\n",
    "\n",
    "plt.figure(figsize=(12, 4))\n",
    "plt.bar(conteo_diario.index.astype(str), conteo_diario.values)\n",
    "plt.title(\"Eventos por fecha (conteo diario)\")\n",
    "plt.xlabel(\"Fecha\")\n",
    "plt.ylabel(\"Número de eventos\")\n",
    "plt.xticks(rotation=45, ha=\"right\")\n",
    "plt.tight_layout()\n",
    "plt.show()\n",
    "\n",
    "print(\"Resumen conteo diario:\")\n",
    "display(conteo_diario.describe())"
   ]
  },
  {
   "cell_type": "code",
   "execution_count": 72,
   "metadata": {},
   "outputs": [
    {
     "data": {
      "image/png": "[encoded data removed]",
      "text/plain": [
       "<Figure size 1000x400 with 1 Axes>"
      ]
     },
     "metadata": {},
     "output_type": "display_data"
    },
    {
     "name": "stdout",
     "output_type": "stream",
     "text": [
      "Conteo por hora (tabla):\n"
     ]
    },
    {
     "data": {
      "text/plain": [
       "0      1487\n",
       "1      1989\n",
       "2      2789\n",
       "3      4348\n",
       "4      6174\n",
       "5      8553\n",
       "6     10107\n",
       "7     11315\n",
       "8     13153\n",
       "9     14757\n",
       "10    14536\n",
       "11    16398\n",
       "12    15025\n",
       "13    15742\n",
       "14    18131\n",
       "15    18081\n",
       "16    17016\n",
       "17    15605\n",
       "18    13024\n",
       "19    11284\n",
       "20     7097\n",
       "21     4250\n",
       "22     2064\n",
       "23     1201\n",
       "Name: fecha_hora, dtype: int64"
      ]
     },
     "metadata": {},
     "output_type": "display_data"
    }
   ],
   "source": [
    "# Parte 3.6: Histograma por hora del día\n",
    "horas = df[\"fecha_hora\"].dt.hour.dropna()\n",
    "\n",
    "plt.figure(figsize=(10, 4))\n",
    "plt.hist(horas, bins=24, range=(0, 24))\n",
    "plt.title(\"Distribución de eventos por hora del día\")\n",
    "plt.xlabel(\"Hora (0-23)\")\n",
    "plt.ylabel(\"Número de eventos\")\n",
    "plt.xticks(range(0, 24))\n",
    "plt.tight_layout()\n",
    "plt.show()\n",
    "\n",
    "print(\"Conteo por hora (tabla):\")\n",
    "display(horas.value_counts().sort_index())\n"
   ]
  },
  {
   "cell_type": "code",
   "execution_count": 73,
   "metadata": {},
   "outputs": [
    {
     "name": "stdout",
     "output_type": "stream",
     "text": [
      "Umbral (p70) del conteo diario: 33576\n",
      "Fecha a partir de la cual consideramos datos 'completos': 2019-08-01\n"
     ]
    }
   ],
   "source": [
    "# Parte 3.7: ¿Los datos están igualmente completos en todo el periodo?\n",
    "#            Detectar desde cuándo el volumen es estable (\"completo\")\n",
    "#            Heurística: umbral = percentil 70 del conteo diario.\n",
    "#            Primer día con 3 días consecutivos >= umbral.\n",
    "\n",
    "umbral = conteo_diario.quantile(0.70)\n",
    "\n",
    "# Ventana deslizante de 3 días; marcamos True si los 3 días están >= umbral\n",
    "rolling_ok = conteo_diario.rolling(window=3, min_periods=3)\\\n",
    "    .apply(lambda x: int(np.all(x >= umbral)), raw=False).fillna(0).astype(int)\n",
    "\n",
    "# Primera fecha \"estable\"\n",
    "fechas_estables = rolling_ok[rolling_ok == 1].index\n",
    "if len(fechas_estables) > 0:\n",
    "    fecha_inicio_completo = fechas_estables.min()\n",
    "else:\n",
    "    # Fallback: si no se detecta, usar la fecha con mayor conteo\n",
    "    fecha_inicio_completo = conteo_diario.idxmax()\n",
    "\n",
    "print(f\"Umbral (p70) del conteo diario: {umbral:.0f}\")\n",
    "print(f\"Fecha a partir de la cual consideramos datos 'completos': {fecha_inicio_completo}\")\n"
   ]
  },
  {
   "cell_type": "code",
   "execution_count": 74,
   "metadata": {},
   "outputs": [
    {
     "name": "stdout",
     "output_type": "stream",
     "text": [
      "Periodo REAL usado tras el filtro: 2019-08-01 00:07:28  →  2019-08-07 21:15:17\n",
      "Eventos en periodo REAL: 241,298\n",
      "Usuarios en periodo REAL: 7,534\n"
     ]
    }
   ],
   "source": [
    "# Parte 3.8: ¿Qué periodo representan realmente los datos?\n",
    "# Al ignorar la sección anterior (incompleta)\n",
    "df_completo = df[df[\"fecha\"] >= fecha_inicio_completo]\n",
    "fecha_min_real = df_completo[\"fecha_hora\"].min()\n",
    "fecha_max_real = df_completo[\"fecha_hora\"].max()\n",
    "\n",
    "print(f\"Periodo REAL usado tras el filtro: {fecha_min_real}  →  {fecha_max_real}\")\n",
    "print(f\"Eventos en periodo REAL: {len(df_completo):,}\")\n",
    "print(f\"Usuarios en periodo REAL: {df_completo['usuario_id'].nunique():,}\")\n"
   ]
  },
  {
   "cell_type": "markdown",
   "metadata": {},
   "source": [
    "<div class=\"alert alert-block alert-success\">\n",
    "<b>Comentario del revisor (1ra Iteracion)</b> <a class=“tocSkip”></a>\n",
    "\n",
    "Buen trabajo con el filtro aplicado! De esta forma las muestras que quedan son más consistentes y se evita incluir datos de fechas que puedan incluir \"ruido\" al análisis cómo tal.\n",
    "</div>"
   ]
  },
  {
   "cell_type": "code",
   "execution_count": 75,
   "metadata": {},
   "outputs": [
    {
     "name": "stdout",
     "output_type": "stream",
     "text": [
      "Eventos perdidos al filtrar lo antiguo: 2,828 (1.16%)\n",
      "Usuarios perdidos al filtrar lo antiguo: 17 (0.23%)\n"
     ]
    }
   ],
   "source": [
    "# Parte 3.9: ¿Se perdieron muchos eventos/usuarios al excluir lo más antiguo?\n",
    "\n",
    "eventos_perdidos = total_eventos - len(df_completo)\n",
    "usuarios_perdidos = total_usuarios - df_completo[\"usuario_id\"].nunique()\n",
    "\n",
    "pct_eventos_perdidos = (eventos_perdidos / total_eventos * 100) if total_eventos > 0 else np.nan\n",
    "pct_usuarios_perdidos = (usuarios_perdidos / total_usuarios * 100) if total_usuarios > 0 else np.nan\n",
    "\n",
    "print(f\"Eventos perdidos al filtrar lo antiguo: {eventos_perdidos:,} ({pct_eventos_perdidos:.2f}%)\")\n",
    "print(f\"Usuarios perdidos al filtrar lo antiguo: {usuarios_perdidos:,} ({pct_usuarios_perdidos:.2f}%)\")\n"
   ]
  },
  {
   "cell_type": "code",
   "execution_count": 76,
   "metadata": {},
   "outputs": [
    {
     "name": "stdout",
     "output_type": "stream",
     "text": [
      "Eventos por grupo de experimento:\n"
     ]
    },
    {
     "data": {
      "text/plain": [
       "246    80304\n",
       "247    78075\n",
       "248    85747\n",
       "Name: experimento, dtype: int64"
      ]
     },
     "metadata": {},
     "output_type": "display_data"
    },
    {
     "name": "stdout",
     "output_type": "stream",
     "text": [
      "Usuarios únicos por grupo de experimento:\n"
     ]
    },
    {
     "data": {
      "text/plain": [
       "experimento\n",
       "246    2489\n",
       "247    2520\n",
       "248    2542\n",
       "Name: usuario_id, dtype: int64"
      ]
     },
     "metadata": {},
     "output_type": "display_data"
    },
    {
     "name": "stdout",
     "output_type": "stream",
     "text": [
      "Confirmación: hay datos para los tres grupos experimentales (246, 247, 248).\n"
     ]
    }
   ],
   "source": [
    "# Parte 3.10: ¿Hay usuarios de los tres grupos experimentales?\n",
    "#Revisión por eventos y por usuarios únicos\n",
    "conteo_eventos_grupo = df[\"experimento\"].value_counts().sort_index()\n",
    "conteo_usuarios_grupo = df.groupby(\"experimento\")[\"usuario_id\"].nunique().sort_index()\n",
    "\n",
    "print(\"Eventos por grupo de experimento:\")\n",
    "display(conteo_eventos_grupo)\n",
    "\n",
    "print(\"Usuarios únicos por grupo de experimento:\")\n",
    "display(conteo_usuarios_grupo)\n",
    "\n",
    "grupos_presentes = set(conteo_eventos_grupo.index.tolist())\n",
    "falta_alguno = {246, 247, 248} - grupos_presentes\n",
    "if len(falta_alguno) == 0:\n",
    "    print(\"Confirmación: hay datos para los tres grupos experimentales (246, 247, 248).\")\n",
    "else:\n",
    "    print(f\"Advertencia: faltan grupos en los eventos: {falta_alguno}\")\n"
   ]
  },
  {
   "cell_type": "markdown",
   "metadata": {},
   "source": [
    "***De los datos obtenidos podemos decir que***\n",
    "1. Hay suficiente actividad y una base amplia de usuarios para analizar el embudo y comparar grupos con confianza.\n",
    "\n",
    "2. Los primeros días del registro son incompletos; desde inicios de agosto el volumen diario se vuelve estable.\n",
    "\n",
    "3. El uso de la app sigue un patrón típico: sube por la mañana, alcanza su pico por la tarde y baja por la noche.\n",
    "\n",
    "4. Al filtrar los días incompletos, solo se pierde una porción pequeña de eventos y usuarios, por lo que el análisis mantiene representatividad.\n",
    "\n",
    "5. Están presentes los tres grupos del experimento (dos controles y un tratamiento), así que es viable el A/A/B.\n",
    "\n",
    "***CONCLUSION FINAL DEL PASO 3***\n",
    "\n",
    "En total hay 244,126 eventos de 7,551 usuarios, con un promedio de 32.33 eventos por usuario. El periodo registrado va del 25-jul-2019 al 07-ago-2019, pero los datos son completos desde el 01-ago-2019; por eso tomaremos como periodo real 01-ago a 07-ago. Al aplicar este filtro se pierden 1.16% de eventos y 0.23% de usuarios, una merma pequeña que no cambia las conclusiones. Confirmamos usuarios en los tres grupos (246, 247, 248), por lo que podemos avanzar al embudo y al análisis A/A/B usando el tramo estable."
   ]
  },
  {
   "cell_type": "markdown",
   "metadata": {},
   "source": [
    "***PASO 4 : Estudiar el embudo de eventos***"
   ]
  },
  {
   "cell_type": "code",
   "execution_count": 77,
   "metadata": {},
   "outputs": [
    {
     "name": "stdout",
     "output_type": "stream",
     "text": [
      "Fecha de inicio usada para el periodo completo: 2019-08-01\n",
      "Usuarios únicos en el periodo completo: 7534\n",
      "Eventos en el periodo completo: 241298\n"
     ]
    }
   ],
   "source": [
    "# Definir el subconjunto \"completo\" para el análisis\n",
    "# Asegurar columnas temporales\n",
    "if \"fecha_hora\" not in df.columns:\n",
    "    df[\"fecha_hora\"] = pd.to_datetime(df[\"timestamp\"], unit=\"s\", errors=\"coerce\")\n",
    "if \"fecha\" not in df.columns:\n",
    "    df[\"fecha\"] = df[\"fecha_hora\"].dt.date\n",
    "\n",
    "# Si ya tienes 'fecha_inicio_completo' del Paso 3, úsalo. Si no, lo calculamos igual que antes.\n",
    "if \"fecha_inicio_completo\" not in globals():\n",
    "    conteo_diario_tmp = df.groupby(\"fecha\").size().sort_index()\n",
    "    umbral_tmp = conteo_diario_tmp.quantile(0.70)\n",
    "    rolling_ok_tmp = conteo_diario_tmp.rolling(window=3, min_periods=3)\\\n",
    "        .apply(lambda x: int(np.all(x >= umbral_tmp)), raw=False).fillna(0).astype(int)\n",
    "    if (rolling_ok_tmp == 1).any():\n",
    "        fecha_inicio_completo = rolling_ok_tmp[rolling_ok_tmp == 1].index.min()\n",
    "    else:\n",
    "        fecha_inicio_completo = conteo_diario_tmp.idxmax()\n",
    "\n",
    "df_base = df[df[\"fecha\"] >= fecha_inicio_completo].copy()\n",
    "\n",
    "print(\"Fecha de inicio usada para el periodo completo:\", fecha_inicio_completo)\n",
    "print(\"Usuarios únicos en el periodo completo:\", df_base[\"usuario_id\"].nunique())\n",
    "print(\"Eventos en el periodo completo:\", len(df_base))"
   ]
  },
  {
   "cell_type": "code",
   "execution_count": 78,
   "metadata": {},
   "outputs": [
    {
     "data": {
      "text/html": [
       "<div>\n",
       "<style scoped>\n",
       "    .dataframe tbody tr th:only-of-type {\n",
       "        vertical-align: middle;\n",
       "    }\n",
       "\n",
       "    .dataframe tbody tr th {\n",
       "        vertical-align: top;\n",
       "    }\n",
       "\n",
       "    .dataframe thead th {\n",
       "        text-align: right;\n",
       "    }\n",
       "</style>\n",
       "<table border=\"1\" class=\"dataframe\">\n",
       "  <thead>\n",
       "    <tr style=\"text-align: right;\">\n",
       "      <th></th>\n",
       "      <th>eventos</th>\n",
       "    </tr>\n",
       "    <tr>\n",
       "      <th>evento</th>\n",
       "      <th></th>\n",
       "    </tr>\n",
       "  </thead>\n",
       "  <tbody>\n",
       "    <tr>\n",
       "      <th>MainScreenAppear</th>\n",
       "      <td>117431</td>\n",
       "    </tr>\n",
       "    <tr>\n",
       "      <th>OffersScreenAppear</th>\n",
       "      <td>46350</td>\n",
       "    </tr>\n",
       "    <tr>\n",
       "      <th>CartScreenAppear</th>\n",
       "      <td>42365</td>\n",
       "    </tr>\n",
       "    <tr>\n",
       "      <th>PaymentScreenSuccessful</th>\n",
       "      <td>34113</td>\n",
       "    </tr>\n",
       "    <tr>\n",
       "      <th>Tutorial</th>\n",
       "      <td>1039</td>\n",
       "    </tr>\n",
       "  </tbody>\n",
       "</table>\n",
       "</div>"
      ],
      "text/plain": [
       "                         eventos\n",
       "evento                          \n",
       "MainScreenAppear          117431\n",
       "OffersScreenAppear         46350\n",
       "CartScreenAppear           42365\n",
       "PaymentScreenSuccessful    34113\n",
       "Tutorial                    1039"
      ]
     },
     "metadata": {},
     "output_type": "display_data"
    },
    {
     "data": {
      "image/png": "[encoded data removed]",
      "text/plain": [
       "<Figure size 1000x400 with 1 Axes>"
      ]
     },
     "metadata": {},
     "output_type": "display_data"
    }
   ],
   "source": [
    "# Parte 4.1: Eventos presentes y su frecuencia (ordenados)\n",
    "eventos_freq = df_base[\"evento\"].value_counts().rename_axis(\"evento\").to_frame(\"eventos\")\n",
    "display(eventos_freq)\n",
    "\n",
    "# Opcional: gráfico de los 10 eventos más frecuentes\n",
    "top_n = 10\n",
    "plt.figure(figsize=(10, 4))\n",
    "plt.bar(eventos_freq.index[:top_n], eventos_freq[\"eventos\"].values[:top_n])\n",
    "plt.title(\"Top 10 eventos por frecuencia\")\n",
    "plt.xlabel(\"Evento\")\n",
    "plt.ylabel(\"Número de eventos\")\n",
    "plt.xticks(rotation=45, ha=\"right\")\n",
    "plt.tight_layout()\n",
    "plt.show()\n"
   ]
  },
  {
   "cell_type": "markdown",
   "metadata": {},
   "source": [
    "Comentario 4.1.El evento más común es MainScreenAppear (apertura de la app). Luego vienen OffersScreenAppear y CartScreenAppear; por último PaymentScreenSuccessful. Es un patrón lógico: abrir → ver ofertas → ver carrito → pagar. El Tutorial casi no aparece."
   ]
  },
  {
   "cell_type": "code",
   "execution_count": 79,
   "metadata": {},
   "outputs": [
    {
     "data": {
      "text/html": [
       "<div>\n",
       "<style scoped>\n",
       "    .dataframe tbody tr th:only-of-type {\n",
       "        vertical-align: middle;\n",
       "    }\n",
       "\n",
       "    .dataframe tbody tr th {\n",
       "        vertical-align: top;\n",
       "    }\n",
       "\n",
       "    .dataframe thead th {\n",
       "        text-align: right;\n",
       "    }\n",
       "</style>\n",
       "<table border=\"1\" class=\"dataframe\">\n",
       "  <thead>\n",
       "    <tr style=\"text-align: right;\">\n",
       "      <th></th>\n",
       "      <th>eventos</th>\n",
       "      <th>usuarios_unicos</th>\n",
       "      <th>proporcion_usuarios</th>\n",
       "    </tr>\n",
       "    <tr>\n",
       "      <th>evento</th>\n",
       "      <th></th>\n",
       "      <th></th>\n",
       "      <th></th>\n",
       "    </tr>\n",
       "  </thead>\n",
       "  <tbody>\n",
       "    <tr>\n",
       "      <th>MainScreenAppear</th>\n",
       "      <td>117431</td>\n",
       "      <td>7419</td>\n",
       "      <td>0.984736</td>\n",
       "    </tr>\n",
       "    <tr>\n",
       "      <th>OffersScreenAppear</th>\n",
       "      <td>46350</td>\n",
       "      <td>4593</td>\n",
       "      <td>0.609636</td>\n",
       "    </tr>\n",
       "    <tr>\n",
       "      <th>CartScreenAppear</th>\n",
       "      <td>42365</td>\n",
       "      <td>3734</td>\n",
       "      <td>0.495620</td>\n",
       "    </tr>\n",
       "    <tr>\n",
       "      <th>PaymentScreenSuccessful</th>\n",
       "      <td>34113</td>\n",
       "      <td>3539</td>\n",
       "      <td>0.469737</td>\n",
       "    </tr>\n",
       "    <tr>\n",
       "      <th>Tutorial</th>\n",
       "      <td>1039</td>\n",
       "      <td>840</td>\n",
       "      <td>0.111495</td>\n",
       "    </tr>\n",
       "  </tbody>\n",
       "</table>\n",
       "</div>"
      ],
      "text/plain": [
       "                         eventos  usuarios_unicos  proporcion_usuarios\n",
       "evento                                                                \n",
       "MainScreenAppear          117431             7419             0.984736\n",
       "OffersScreenAppear         46350             4593             0.609636\n",
       "CartScreenAppear           42365             3734             0.495620\n",
       "PaymentScreenSuccessful    34113             3539             0.469737\n",
       "Tutorial                    1039              840             0.111495"
      ]
     },
     "metadata": {},
     "output_type": "display_data"
    }
   ],
   "source": [
    "# Parte 4.2: Usuarios por evento y proporción sobre el total\n",
    "usuarios_totales = df_base[\"usuario_id\"].nunique()\n",
    "usuarios_por_evento = df_base.groupby(\"evento\")[\"usuario_id\"].nunique().sort_values(ascending=False)\n",
    "proporcion_por_evento = (usuarios_por_evento / usuarios_totales).rename(\"proporcion_usuarios\")\n",
    "\n",
    "tabla_eventos = eventos_freq.join(usuarios_por_evento.rename(\"usuarios_unicos\")).join(proporcion_por_evento)\n",
    "tabla_eventos = tabla_eventos.sort_values(\"usuarios_unicos\", ascending=False)\n",
    "display(tabla_eventos)\n"
   ]
  },
  {
   "cell_type": "markdown",
   "metadata": {},
   "source": [
    "Comentario 4.2.:\n",
    "Casi todos los usuarios ven la pantalla principal al menos una vez. Alrededor de 6 de cada 10 llegan a ver Ofertas, 1 de cada 2 llega al Carrito, y casi la mitad de los usuarios del periodo logra pagar al menos una vez. El Tutorial lo hace una minoría."
   ]
  },
  {
   "cell_type": "markdown",
   "metadata": {},
   "source": [
    "<div class=\"alert alert-block alert-warning\">\n",
    "<b>Comentario del revisor (1ra Iteracion)</b> <a class=“tocSkip”></a>\n",
    "\n",
    "Muy bien hecho los cálculos de las conversiones! Al tratarse de una prueba AB puedes dejar el análisis por cada grupo y dejarlo en una visualización para que la comparación sea más visual, pero en si el cálculo fue el correcto!\n",
    "</div>"
   ]
  },
  {
   "cell_type": "code",
   "execution_count": 80,
   "metadata": {},
   "outputs": [
    {
     "name": "stdout",
     "output_type": "stream",
     "text": [
      "Orden sugerido por la mediana temporal de cada evento:\n"
     ]
    },
    {
     "data": {
      "text/plain": [
       "evento\n",
       "Tutorial                  2019-08-03 13:41:54\n",
       "CartScreenAppear          2019-08-04 10:54:13\n",
       "OffersScreenAppear        2019-08-04 11:15:36\n",
       "PaymentScreenSuccessful   2019-08-04 11:44:12\n",
       "MainScreenAppear          2019-08-04 14:12:04\n",
       "Name: fecha_hora, dtype: datetime64[ns]"
      ]
     },
     "metadata": {},
     "output_type": "display_data"
    }
   ],
   "source": [
    "\n",
    "# Parte 4.3 corregida — mediana temporal por evento\n",
    "# Aseguramos dtype datetime\n",
    "df_base[\"fecha_hora\"] = pd.to_datetime(df_base[\"fecha_hora\"], errors=\"coerce\")\n",
    "\n",
    "orden_medianas = (\n",
    "    df_base.dropna(subset=[\"fecha_hora\"])\n",
    "          .groupby(\"evento\")[\"fecha_hora\"]\n",
    "          .apply(lambda s: s.median())   # calcula mediana por grupo sobre datetime\n",
    "          .sort_values()\n",
    ")\n",
    "\n",
    "print(\"Orden sugerido por la mediana temporal de cada evento:\")\n",
    "display(orden_medianas)\n",
    "\n"
   ]
  },
  {
   "cell_type": "markdown",
   "metadata": {},
   "source": [
    "Comentario 4.3: \n",
    "\n",
    "El orden por la mediana temporal sugiere: Tutorial → Carrito → Ofertas → Pago → Principal. Esto no es una secuencia real, solo una pista estadística (sirve como referencia, pero no para construir el embudo)."
   ]
  },
  {
   "cell_type": "code",
   "execution_count": 81,
   "metadata": {},
   "outputs": [
    {
     "name": "stdout",
     "output_type": "stream",
     "text": [
      "Secuencia candidata del embudo: MainScreenAppear -> CartScreenAppear -> PaymentScreenSuccessful\n",
      "Usuarios por etapa:\n",
      " - MainScreenAppear: 7419\n",
      " - CartScreenAppear: 3734\n",
      " - PaymentScreenSuccessful: 3539\n",
      "\n",
      "Conversiones relativas entre etapas:\n",
      " MainScreenAppear -> CartScreenAppear: 50.33%\n",
      " CartScreenAppear -> PaymentScreenSuccessful: 94.78%\n",
      "\n",
      "Pérdidas relativas entre etapas:\n",
      " MainScreenAppear -> CartScreenAppear: 49.67%\n",
      " CartScreenAppear -> PaymentScreenSuccessful: 5.22%\n",
      "\n",
      "Mayor pérdida detectada: MainScreenAppear -> CartScreenAppear (49.67%)\n"
     ]
    }
   ],
   "source": [
    "# Parte 4.4: Definir una secuencia de embudo y calcular conversiones\n",
    "\n",
    "candidatos = [\"MainScreenAppear\", \"CartScreenAppear\", \"PaymentScreenSuccessful\"]\n",
    "presentes = [e for e in candidatos if e in df_base[\"evento\"].unique()]\n",
    "\n",
    "if len(presentes) < 2:\n",
    "    raise ValueError(\"No hay suficientes etapas candidatas presentes para construir el embudo.\")\n",
    "\n",
    "print(\"Secuencia candidata del embudo:\", \" -> \".join(presentes))\n",
    "\n",
    "def conversion_funnel(df_in, steps):\n",
    "    sets_usuarios = []\n",
    "    for step in steps:\n",
    "        usuarios = set(df_in.loc[df_in[\"evento\"] == step, \"usuario_id\"].unique())\n",
    "        sets_usuarios.append(usuarios)\n",
    "    conteos = [len(s) for s in sets_usuarios]\n",
    "    tasas_relativas = [np.nan]\n",
    "    for i in range(1, len(steps)):\n",
    "        prev = conteos[i-1]\n",
    "        curr = conteos[i]\n",
    "        tasas_relativas.append(curr / prev if prev else np.nan)\n",
    "    # pérdidas relativas entre etapas\n",
    "    perdidas = [np.nan]\n",
    "    for i in range(1, len(steps)):\n",
    "        prev = conteos[i-1]\n",
    "        curr = conteos[i]\n",
    "        perdidas.append((prev - curr) / prev if prev else np.nan)\n",
    "    return conteos, tasas_relativas, perdidas\n",
    "\n",
    "conteos, tasas, perdidas = conversion_funnel(df_base, presentes)\n",
    "\n",
    "print(\"Usuarios por etapa:\")\n",
    "for s, c in zip(presentes, conteos):\n",
    "    print(f\" - {s}: {c}\")\n",
    "\n",
    "print(\"\\nConversiones relativas entre etapas:\")\n",
    "for i in range(1, len(presentes)):\n",
    "    print(f\" {presentes[i-1]} -> {presentes[i]}: {tasas[i]:.2%}\")\n",
    "\n",
    "print(\"\\nPérdidas relativas entre etapas:\")\n",
    "for i in range(1, len(presentes)):\n",
    "    print(f\" {presentes[i-1]} -> {presentes[i]}: {perdidas[i]:.2%}\")\n",
    "\n",
    "# Identificar la etapa con mayor pérdida\n",
    "if len(presentes) >= 2:\n",
    "    idx_peor = int(np.nanargmax(perdidas[1:])) + 1  # desplazamiento por el primer NaN\n",
    "    print(f\"\\nMayor pérdida detectada: {presentes[idx_peor-1]} -> {presentes[idx_peor]} ({perdidas[idx_peor]:.2%})\")\n"
   ]
  },
  {
   "cell_type": "markdown",
   "metadata": {},
   "source": [
    "Comentario 4.4: \n",
    "\n",
    "Con el embudo Main → Cart → Payment:\n",
    "\n",
    "La mayor pérdida ocurre entre Main → Cart (casi la mitad no llega al carrito).\n",
    "\n",
    "Una vez en Carrito, la gran mayoría termina en Pago.\n",
    "Esto indica que el cuello de botella está antes de que la gente añada o revise el carrito."
   ]
  },
  {
   "cell_type": "code",
   "execution_count": 82,
   "metadata": {},
   "outputs": [
    {
     "name": "stdout",
     "output_type": "stream",
     "text": [
      "Porcentaje de usuarios que llegan al pago (sobre todos los usuarios del periodo): 46.97%\n"
     ]
    }
   ],
   "source": [
    "# Parte 4.5: ¿Qué porcentaje completa todo el viaje hasta el pago?\n",
    "# Base: todos los usuarios con al menos un evento en el periodo completo.\n",
    "# Éxito: usuarios con 'PaymentScreenSuccessful'.\n",
    "\n",
    "if \"PaymentScreenSuccessful\" in df_base[\"evento\"].unique():\n",
    "    usuarios_con_pago = df_base.loc[df_base[\"evento\"] == \"PaymentScreenSuccessful\", \"usuario_id\"].nunique()\n",
    "    porcentaje_full = usuarios_con_pago / usuarios_totales if usuarios_totales > 0 else np.nan\n",
    "    print(f\"Porcentaje de usuarios que llegan al pago (sobre todos los usuarios del periodo): {porcentaje_full:.2%}\")\n",
    "else:\n",
    "    print(\"No se encontró el evento 'PaymentScreenSuccessful'; no es posible calcular el porcentaje de pago.\")\n"
   ]
  },
  {
   "cell_type": "markdown",
   "metadata": {},
   "source": [
    "Comentario 4.5. Casi la mitad de los usuarios activos del periodo llega a pagar. Es un resultado fuerte, pero hay margen claro de mejora en el paso de inicio a carrito."
   ]
  },
  {
   "cell_type": "markdown",
   "metadata": {},
   "source": [
    "***CONCLUSION PASO 4***\n",
    "\n",
    "Los registros muestran un flujo coherente y suficiente para el análisis. La mayor caída ocurre al pasar de la pantalla principal al carrito; después, la conversión a pago es alta. Por tanto, el foco de mejora debe estar en motivar y facilitar que el usuario pase del inicio al carrito (mejor visibilidad de CTAs, fricción menor para añadir al carrito, mensajes de valor en la página principal). Con este embudo ya identificado, podemos medir con precisión cómo impactan futuros cambios en esa etapa crítica."
   ]
  },
  {
   "cell_type": "markdown",
   "metadata": {},
   "source": [
    "***PASO 5. Estudiar los resultados del experimento***"
   ]
  },
  {
   "cell_type": "code",
   "execution_count": 83,
   "metadata": {},
   "outputs": [
    {
     "name": "stdout",
     "output_type": "stream",
     "text": [
      "Periodo completo usado desde: 2019-08-01\n",
      "Usuarios únicos: 7534\n",
      "Eventos: 241298\n"
     ]
    }
   ],
   "source": [
    "# Parte 5.0: Preparación de datos para estudiar los resultados del experimento\n",
    "# Asegurar columnas temporales básicas\n",
    "if \"fecha_hora\" not in df.columns:\n",
    "    df[\"fecha_hora\"] = pd.to_datetime(df[\"timestamp\"], unit=\"s\", errors=\"coerce\")\n",
    "if \"fecha\" not in df.columns:\n",
    "    df[\"fecha\"] = df[\"fecha_hora\"].dt.date\n",
    "\n",
    "# Reconstruir periodo completo si no está en memoria\n",
    "if \"fecha_inicio_completo\" not in globals():\n",
    "    conteo_diario_tmp = df.groupby(\"fecha\").size().sort_index()\n",
    "    umbral_tmp = conteo_diario_tmp.quantile(0.70)\n",
    "    rolling_ok_tmp = conteo_diario_tmp.rolling(window=3, min_periods=3)\\\n",
    "        .apply(lambda x: int(np.all(x >= umbral_tmp)), raw=False).fillna(0).astype(int)\n",
    "    if (rolling_ok_tmp == 1).any():\n",
    "        fecha_inicio_completo = rolling_ok_tmp[rolling_ok_tmp == 1].index.min()\n",
    "    else:\n",
    "        fecha_inicio_completo = conteo_diario_tmp.idxmax()\n",
    "\n",
    "if \"df_base\" not in globals():\n",
    "    df_base = df[df[\"fecha\"] >= fecha_inicio_completo].copy()\n",
    "\n",
    "print(\"Periodo completo usado desde:\", fecha_inicio_completo)\n",
    "print(\"Usuarios únicos:\", df_base[\"usuario_id\"].nunique())\n",
    "print(\"Eventos:\", len(df_base))\n"
   ]
  },
  {
   "cell_type": "code",
   "execution_count": 84,
   "metadata": {},
   "outputs": [
    {
     "data": {
      "text/html": [
       "<div>\n",
       "<style scoped>\n",
       "    .dataframe tbody tr th:only-of-type {\n",
       "        vertical-align: middle;\n",
       "    }\n",
       "\n",
       "    .dataframe tbody tr th {\n",
       "        vertical-align: top;\n",
       "    }\n",
       "\n",
       "    .dataframe thead th {\n",
       "        text-align: right;\n",
       "    }\n",
       "</style>\n",
       "<table border=\"1\" class=\"dataframe\">\n",
       "  <thead>\n",
       "    <tr style=\"text-align: right;\">\n",
       "      <th></th>\n",
       "      <th>usuarios_unicos</th>\n",
       "    </tr>\n",
       "    <tr>\n",
       "      <th>experimento</th>\n",
       "      <th></th>\n",
       "    </tr>\n",
       "  </thead>\n",
       "  <tbody>\n",
       "    <tr>\n",
       "      <th>246</th>\n",
       "      <td>2484</td>\n",
       "    </tr>\n",
       "    <tr>\n",
       "      <th>247</th>\n",
       "      <td>2513</td>\n",
       "    </tr>\n",
       "    <tr>\n",
       "      <th>248</th>\n",
       "      <td>2537</td>\n",
       "    </tr>\n",
       "  </tbody>\n",
       "</table>\n",
       "</div>"
      ],
      "text/plain": [
       "             usuarios_unicos\n",
       "experimento                 \n",
       "246                     2484\n",
       "247                     2513\n",
       "248                     2537"
      ]
     },
     "metadata": {},
     "output_type": "display_data"
    }
   ],
   "source": [
    "# ==========================================================\n",
    "# Parte 5.1: ¿Cuántos usuarios hay en cada grupo?\n",
    "# ==========================================================\n",
    "usuarios_por_grupo = (\n",
    "    df_base.groupby(\"experimento\")[\"usuario_id\"]\n",
    "           .nunique()\n",
    "           .sort_index()\n",
    "           .rename(\"usuarios_unicos\")\n",
    "           .to_frame()\n",
    ")\n",
    "display(usuarios_por_grupo)\n",
    "\n",
    "# Conjunto de usuarios por grupo y controles combinados\n",
    "users_246 = set(df_base.loc[df_base[\"experimento\"] == 246, \"usuario_id\"].unique())\n",
    "users_247 = set(df_base.loc[df_base[\"experimento\"] == 247, \"usuario_id\"].unique())\n",
    "users_248 = set(df_base.loc[df_base[\"experimento\"] == 248, \"usuario_id\"].unique())\n",
    "users_ctrl = users_246 | users_247  # controles combinados\n"
   ]
  },
  {
   "cell_type": "markdown",
   "metadata": {},
   "source": [
    "Comentario 5.1. \n",
    "\n",
    "La división quedó balanceada: 246=2484, 247=2513, 248=2537 usuarios."
   ]
  },
  {
   "cell_type": "code",
   "execution_count": 85,
   "metadata": {},
   "outputs": [],
   "source": [
    "# ==========================================================\n",
    "# Parte 5.2: Funciones auxiliares (tasas por evento y pruebas A/A y A/B)\n",
    "# - z-test de dos proporciones (dos colas)\n",
    "# - tasa de usuarios por evento y grupo\n",
    "# ==========================================================\n",
    "def two_proportions_ztest(count1, n1, count2, n2):\n",
    "    p1 = count1 / n1 if n1 else np.nan\n",
    "    p2 = count2 / n2 if n2 else np.nan\n",
    "    p_pool = (count1 + count2) / (n1 + n2) if (n1 + n2) else np.nan\n",
    "    se = sqrt(p_pool * (1 - p_pool) * (1/n1 + 1/n2)) if n1 and n2 else np.nan\n",
    "    if se == 0 or np.isnan(se):\n",
    "        return np.nan, np.nan\n",
    "    z = (p1 - p2) / se\n",
    "    # p-valor dos colas usando CDF normal (sin dependencias externas)\n",
    "    # CDF normal ~ 0.5 * (1 + erf(z / sqrt(2)))\n",
    "    def norm_cdf(x): return 0.5 * (1 + erf(x / sqrt(2)))\n",
    "    p = 2 * (1 - norm_cdf(abs(z)))\n",
    "    return z, p\n",
    "\n",
    "def event_user_counts(df_in, event_name, user_set):\n",
    "    usuarios_evento = set(df_in.loc[df_in[\"evento\"] == event_name, \"usuario_id\"].unique())\n",
    "    count = len(usuarios_evento & user_set)\n",
    "    total = len(user_set)\n",
    "    rate = count / total if total else np.nan\n",
    "    return count, total, rate\n"
   ]
  },
  {
   "cell_type": "code",
   "execution_count": 86,
   "metadata": {},
   "outputs": [
    {
     "name": "stdout",
     "output_type": "stream",
     "text": [
      "Evento más popular: MainScreenAppear\n",
      "Top event A/A | 246 vs 247 -> tasas: 0.9863 vs 0.9853 | p=0.7571\n"
     ]
    },
    {
     "data": {
      "text/html": [
       "<div>\n",
       "<style scoped>\n",
       "    .dataframe tbody tr th:only-of-type {\n",
       "        vertical-align: middle;\n",
       "    }\n",
       "\n",
       "    .dataframe tbody tr th {\n",
       "        vertical-align: top;\n",
       "    }\n",
       "\n",
       "    .dataframe thead th {\n",
       "        text-align: right;\n",
       "    }\n",
       "</style>\n",
       "<table border=\"1\" class=\"dataframe\">\n",
       "  <thead>\n",
       "    <tr style=\"text-align: right;\">\n",
       "      <th></th>\n",
       "      <th>evento</th>\n",
       "      <th>rate_246</th>\n",
       "      <th>rate_247</th>\n",
       "      <th>diff</th>\n",
       "      <th>p_value</th>\n",
       "    </tr>\n",
       "  </thead>\n",
       "  <tbody>\n",
       "    <tr>\n",
       "      <th>4</th>\n",
       "      <td>PaymentScreenSuccessful</td>\n",
       "      <td>0.483092</td>\n",
       "      <td>0.460804</td>\n",
       "      <td>0.022288</td>\n",
       "      <td>0.114567</td>\n",
       "    </tr>\n",
       "    <tr>\n",
       "      <th>3</th>\n",
       "      <td>CartScreenAppear</td>\n",
       "      <td>0.509662</td>\n",
       "      <td>0.492638</td>\n",
       "      <td>0.017024</td>\n",
       "      <td>0.228834</td>\n",
       "    </tr>\n",
       "    <tr>\n",
       "      <th>2</th>\n",
       "      <td>OffersScreenAppear</td>\n",
       "      <td>0.620773</td>\n",
       "      <td>0.604855</td>\n",
       "      <td>0.015918</td>\n",
       "      <td>0.248095</td>\n",
       "    </tr>\n",
       "    <tr>\n",
       "      <th>1</th>\n",
       "      <td>MainScreenAppear</td>\n",
       "      <td>0.986312</td>\n",
       "      <td>0.985277</td>\n",
       "      <td>0.001036</td>\n",
       "      <td>0.757060</td>\n",
       "    </tr>\n",
       "    <tr>\n",
       "      <th>0</th>\n",
       "      <td>Tutorial</td>\n",
       "      <td>0.111916</td>\n",
       "      <td>0.112614</td>\n",
       "      <td>-0.000698</td>\n",
       "      <td>0.937700</td>\n",
       "    </tr>\n",
       "  </tbody>\n",
       "</table>\n",
       "</div>"
      ],
      "text/plain": [
       "                    evento  rate_246  rate_247      diff   p_value\n",
       "4  PaymentScreenSuccessful  0.483092  0.460804  0.022288  0.114567\n",
       "3         CartScreenAppear  0.509662  0.492638  0.017024  0.228834\n",
       "2       OffersScreenAppear  0.620773  0.604855  0.015918  0.248095\n",
       "1         MainScreenAppear  0.986312  0.985277  0.001036  0.757060\n",
       "0                 Tutorial  0.111916  0.112614 -0.000698  0.937700"
      ]
     },
     "metadata": {},
     "output_type": "display_data"
    }
   ],
   "source": [
    "# ==========================================================\n",
    "# Parte 5.3: Chequeo A/A entre controles (246 vs 247)\n",
    "# - Primero para el evento más popular\n",
    "# - Luego para todos los eventos\n",
    "# ==========================================================\n",
    "alpha = 0.05  # nivel de significancia primario\n",
    "\n",
    "# Evento más popular (por frecuencia en el periodo completo)\n",
    "top_event = df_base[\"evento\"].value_counts().idxmax()\n",
    "print(\"Evento más popular:\", top_event)\n",
    "\n",
    "# A/A solo para top_event\n",
    "c1, n1, r1 = event_user_counts(df_base, top_event, users_246)\n",
    "c2, n2, r2 = event_user_counts(df_base, top_event, users_247)\n",
    "z_top, p_top = two_proportions_ztest(c1, n1, c2, n2)\n",
    "print(f\"Top event A/A | 246 vs 247 -> tasas: {r1:.4f} vs {r2:.4f} | p={p_top:.4f}\")\n",
    "\n",
    "# A/A para todos los eventos\n",
    "eventos = df_base[\"evento\"].unique().tolist()\n",
    "rows_aa = []\n",
    "for ev in eventos:\n",
    "    c1, n1, r1 = event_user_counts(df_base, ev, users_246)\n",
    "    c2, n2, r2 = event_user_counts(df_base, ev, users_247)\n",
    "    z, p = two_proportions_ztest(c1, n1, c2, n2)\n",
    "    rows_aa.append({\"evento\": ev, \"rate_246\": r1, \"rate_247\": r2, \"diff\": r1 - r2, \"p_value\": p})\n",
    "aa_results = pd.DataFrame(rows_aa).sort_values(\"p_value\")\n",
    "display(aa_results)\n"
   ]
  },
  {
   "cell_type": "markdown",
   "metadata": {},
   "source": [
    "<div class=\"alert alert-block alert-success\">\n",
    "<b>Comentario del revisor (1ra Iteracion)</b> <a class=“tocSkip”></a>\n",
    "\n",
    "Muy bien! Siempre es bueno aplicar pruebas estadísticas a cada etapa del embudo para entender si en alguna parte el comportamiento de los usuarios ha cambiado \n",
    "</div>"
   ]
  },
  {
   "cell_type": "markdown",
   "metadata": {},
   "source": [
    "Comentario 5.3.\n",
    "\n",
    "\n",
    "Entre los controles 246 vs 247 no hay diferencias estadísticamente significativas para ningún evento (ej.: evento principal MainScreenAppear p=0.7571; el resto también sin señales). Esto confirma que la asignación y las mediciones son confiables."
   ]
  },
  {
   "cell_type": "code",
   "execution_count": 87,
   "metadata": {},
   "outputs": [
    {
     "data": {
      "text/html": [
       "<div>\n",
       "<style scoped>\n",
       "    .dataframe tbody tr th:only-of-type {\n",
       "        vertical-align: middle;\n",
       "    }\n",
       "\n",
       "    .dataframe tbody tr th {\n",
       "        vertical-align: top;\n",
       "    }\n",
       "\n",
       "    .dataframe thead th {\n",
       "        text-align: right;\n",
       "    }\n",
       "</style>\n",
       "<table border=\"1\" class=\"dataframe\">\n",
       "  <thead>\n",
       "    <tr style=\"text-align: right;\">\n",
       "      <th></th>\n",
       "      <th>evento</th>\n",
       "      <th>rate_248</th>\n",
       "      <th>rate_246</th>\n",
       "      <th>p_248_vs_246</th>\n",
       "      <th>rate_247</th>\n",
       "      <th>p_248_vs_247</th>\n",
       "      <th>rate_ctrl</th>\n",
       "      <th>p_248_vs_ctrl</th>\n",
       "    </tr>\n",
       "  </thead>\n",
       "  <tbody>\n",
       "    <tr>\n",
       "      <th>3</th>\n",
       "      <td>CartScreenAppear</td>\n",
       "      <td>0.484825</td>\n",
       "      <td>0.509662</td>\n",
       "      <td>0.078429</td>\n",
       "      <td>0.492638</td>\n",
       "      <td>0.578620</td>\n",
       "      <td>0.501101</td>\n",
       "      <td>0.181759</td>\n",
       "    </tr>\n",
       "    <tr>\n",
       "      <th>1</th>\n",
       "      <td>MainScreenAppear</td>\n",
       "      <td>0.982657</td>\n",
       "      <td>0.986312</td>\n",
       "      <td>0.294972</td>\n",
       "      <td>0.985277</td>\n",
       "      <td>0.458705</td>\n",
       "      <td>0.985791</td>\n",
       "      <td>0.294245</td>\n",
       "    </tr>\n",
       "    <tr>\n",
       "      <th>2</th>\n",
       "      <td>OffersScreenAppear</td>\n",
       "      <td>0.603469</td>\n",
       "      <td>0.620773</td>\n",
       "      <td>0.208362</td>\n",
       "      <td>0.604855</td>\n",
       "      <td>0.919782</td>\n",
       "      <td>0.612768</td>\n",
       "      <td>0.434255</td>\n",
       "    </tr>\n",
       "    <tr>\n",
       "      <th>4</th>\n",
       "      <td>PaymentScreenSuccessful</td>\n",
       "      <td>0.465510</td>\n",
       "      <td>0.483092</td>\n",
       "      <td>0.212255</td>\n",
       "      <td>0.460804</td>\n",
       "      <td>0.737342</td>\n",
       "      <td>0.471883</td>\n",
       "      <td>0.600429</td>\n",
       "    </tr>\n",
       "    <tr>\n",
       "      <th>0</th>\n",
       "      <td>Tutorial</td>\n",
       "      <td>0.109972</td>\n",
       "      <td>0.111916</td>\n",
       "      <td>0.826429</td>\n",
       "      <td>0.112614</td>\n",
       "      <td>0.765324</td>\n",
       "      <td>0.112267</td>\n",
       "      <td>0.764862</td>\n",
       "    </tr>\n",
       "  </tbody>\n",
       "</table>\n",
       "</div>"
      ],
      "text/plain": [
       "                    evento  rate_248  rate_246  p_248_vs_246  rate_247  \\\n",
       "3         CartScreenAppear  0.484825  0.509662      0.078429  0.492638   \n",
       "1         MainScreenAppear  0.982657  0.986312      0.294972  0.985277   \n",
       "2       OffersScreenAppear  0.603469  0.620773      0.208362  0.604855   \n",
       "4  PaymentScreenSuccessful  0.465510  0.483092      0.212255  0.460804   \n",
       "0                 Tutorial  0.109972  0.111916      0.826429  0.112614   \n",
       "\n",
       "   p_248_vs_247  rate_ctrl  p_248_vs_ctrl  \n",
       "3      0.578620   0.501101       0.181759  \n",
       "1      0.458705   0.985791       0.294245  \n",
       "2      0.919782   0.612768       0.434255  \n",
       "4      0.737342   0.471883       0.600429  \n",
       "0      0.765324   0.112267       0.764862  "
      ]
     },
     "metadata": {},
     "output_type": "display_data"
    }
   ],
   "source": [
    "# ==========================================================\n",
    "# Parte 5.4: Comparación del grupo 248 (fuentes nuevas) vs controles\n",
    "# - Contra 246, contra 247 y contra controles combinados\n",
    "# ==========================================================\n",
    "rows_ab = []\n",
    "for ev in eventos:\n",
    "    # 248 vs 246\n",
    "    c_t, n_t, r_t = event_user_counts(df_base, ev, users_248)\n",
    "    c_c, n_c, r_c = event_user_counts(df_base, ev, users_246)\n",
    "    _, p_248_246 = two_proportions_ztest(c_t, n_t, c_c, n_c)\n",
    "\n",
    "    # 248 vs 247\n",
    "    c_c2, n_c2, r_c2 = event_user_counts(df_base, ev, users_247)\n",
    "    _, p_248_247 = two_proportions_ztest(c_t, n_t, c_c2, n_c2)\n",
    "\n",
    "    # 248 vs controles combinados\n",
    "    c_ctrl = len((set(df_base.loc[df_base[\"evento\"] == ev, \"usuario_id\"].unique()) & users_ctrl))\n",
    "    n_ctrl = len(users_ctrl)\n",
    "    r_ctrl = c_ctrl / n_ctrl if n_ctrl else np.nan\n",
    "    _, p_248_ctrl = two_proportions_ztest(c_t, n_t, c_ctrl, n_ctrl)\n",
    "\n",
    "    rows_ab.append({\n",
    "        \"evento\": ev,\n",
    "        \"rate_248\": r_t,\n",
    "        \"rate_246\": r_c, \"p_248_vs_246\": p_248_246,\n",
    "        \"rate_247\": r_c2, \"p_248_vs_247\": p_248_247,\n",
    "        \"rate_ctrl\": r_ctrl, \"p_248_vs_ctrl\": p_248_ctrl\n",
    "    })\n",
    "\n",
    "ab_results = pd.DataFrame(rows_ab).sort_values(\"p_248_vs_ctrl\")\n",
    "display(ab_results)\n"
   ]
  },
  {
   "cell_type": "markdown",
   "metadata": {},
   "source": [
    "Comentario 5.4.\n",
    "\n",
    "El grupo 248 (fuentes nuevas) tiene tasas por evento muy parecidas a las de los controles (vs 246, vs 247 y vs controles combinados). Ninguna comparación fue significativa tras revisar todos los eventos."
   ]
  },
  {
   "cell_type": "code",
   "execution_count": 88,
   "metadata": {},
   "outputs": [
    {
     "name": "stdout",
     "output_type": "stream",
     "text": [
      "Número total de pruebas: 20\n",
      "Nivel de significancia primario (sin corrección): 0.05\n",
      "Rechazos esperados controlando FDR=5%: 0\n"
     ]
    }
   ],
   "source": [
    "# ==========================================================\n",
    "# Parte 5.5: Múltiples pruebas y ajuste por FDR (Benjamini–Hochberg)\n",
    "# - Contamos cuántas pruebas hicimos y ajustamos p-valores.\n",
    "# ==========================================================\n",
    "# Número de tests:\n",
    "#   A/A: 1 prueba por evento\n",
    "#   A/B: 3 pruebas por evento (vs 246, vs 247, vs controles)\n",
    "num_tests = len(eventos) * (1 + 3)\n",
    "\n",
    "# Recolectar p-valores\n",
    "pvals = []\n",
    "pvals.extend(aa_results[\"p_value\"].dropna().tolist())\n",
    "pvals.extend(ab_results[\"p_248_vs_246\"].dropna().tolist())\n",
    "pvals.extend(ab_results[\"p_248_vs_247\"].dropna().tolist())\n",
    "pvals.extend(ab_results[\"p_248_vs_ctrl\"].dropna().tolist())\n",
    "\n",
    "print(\"Número total de pruebas:\", num_tests)\n",
    "print(\"Nivel de significancia primario (sin corrección):\", alpha)\n",
    "\n",
    "# Benjamini–Hochberg (FDR)\n",
    "def benjamini_hochberg(p_list, q=0.05):\n",
    "    p = np.array(sorted(p_list))\n",
    "    m = len(p)\n",
    "    if m == 0:\n",
    "        return [], []\n",
    "    thresh = (np.arange(1, m+1) / m) * q\n",
    "    is_sig = p <= thresh\n",
    "    return p, is_sig\n",
    "\n",
    "sorted_p, is_sig = benjamini_hochberg(pvals, q=0.05)\n",
    "rechazos_fdr = int(np.sum(is_sig)) if len(is_sig) else 0\n",
    "print(\"Rechazos esperados controlando FDR=5%:\", rechazos_fdr)\n"
   ]
  },
  {
   "cell_type": "markdown",
   "metadata": {},
   "source": [
    "Comentario 5.5.\n",
    "\n",
    "Se hicieron 20 pruebas con α=0.05. Con control de FDR al 5% no se rechaza ninguna hipótesis: no hay evidencia de diferencias reales."
   ]
  },
  {
   "cell_type": "markdown",
   "metadata": {},
   "source": [
    "***Conclusión final del proyecto y decisión***\n",
    "\n",
    "Datos y periodo (Pasos 1–3). Trabajamos con datos completos desde el 1 de agosto. La actividad es alta y estable; perder los días previos no afecta el análisis.\n",
    "\n",
    "Embudo (Paso 4). El mayor problema está antes del carrito: muchos usuarios abren la app, pero cerca de la mitad no llega al carrito. En cambio, quienes llegan al carrito casi siempre pagan.\n",
    "\n",
    "Experimento (Paso 5). Las nuevas fuentes no cambian el uso de la app (ni mejoran ni empeoran).\n"
   ]
  },
  {
   "cell_type": "markdown",
   "metadata": {},
   "source": [
    "***Decisión recomendada***\n",
    "\n",
    "Aprobar el cambio de fuentes: es seguro desde el punto de vista de comportamiento (impacto neutral). Puedes desplegarlo a todos los usuarios o con un pequeño “holdout” de monitoreo.\n",
    "\n",
    "Enfocar mejoras en Main → Cart: ahí está la mayor caída. Acciones simples: llamados a la acción más visibles, “añadir al carrito” más directo desde ofertas, menos pasos para ver el carrito, mensajes de valor (precio, envío, promos) en la pantalla principal.\n",
    "\n",
    "Próximos tests: A/B rápidos sobre CTA de la home, diseño de ofertas y acceso al carrito, usando como métricas % que llega a carrito y % que paga.\n",
    "\n",
    "En resumen: lanzar las nuevas fuentes (sin riesgo) y priorizar experimentos para aumentar el paso de inicio a carrito, que es donde realmente se gana conversión."
   ]
  },
  {
   "cell_type": "markdown",
   "metadata": {},
   "source": [
    "<div class=\"alert alert-block alert-success\">\n",
    "<b>Comentario general (1ra Iteracion)</b> <a class=“tocSkip”></a>\n",
    "\n",
    "Te felicito! Realizaste un muy buen análisis de los grupos de tratamiento entre los cambios obtenidos entre uno y otro respecto al funnel que el usuario debe seguir, tus conclusiones son muy acertadas y siempre argumentadas con los datos obtenidos a partir de tus cálculos. \n",
    "    \n",
    "No cabe duda que vas por excelente camino para convertirte en Data Analyst, saludos!\n",
    "</div>"
   ]
  }
 ],
 "metadata": {
  "kernelspec": {
   "display_name": "Python 3 (ipykernel)",
   "language": "python",
   "name": "python3"
  },
  "language_info": {
   "codemirror_mode": {
    "name": "ipython",
    "version": 3
   },
   "file_extension": ".py",
   "mimetype": "text/x-python",
   "name": "python",
   "nbconvert_exporter": "python",
   "pygments_lexer": "ipython3",
   "version": "3.9.23"
  }
 },
 "nbformat": 4,
 "nbformat_minor": 4
}
